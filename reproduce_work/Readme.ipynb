{
 "cells": [
  {
   "cell_type": "markdown",
   "metadata": {},
   "source": [
    "# Reproduction notre travail \n",
    "\n",
    "**Les fichiers correspondant aux differentes étapes de notre travail seront à deplacer à la racine du projet afin de pouvoir acceder à la librairie *utils* que nous avons ecrite pour l'occasion**\n",
    "\n",
    "## Web App Scraping :\n",
    "Aller directement au niveau de utils/scraping.data_scraping.py, specifier les chemins d'acces au niveau du module\n",
    "et executer le module avec le terminal.\n",
    "Possibilité de le faire directement sur le Report Notebook\n",
    "\n",
    "## Partie Modélisation : \n",
    "Le code de cette partie à été exécuter au sein d'un environnement Google Colab afin de pouvoir acceder aux ressourses GPU misent à disposition.\n",
    "\n",
    "Le reproduction des resultats qui y sont exposés nécessitera donc l'utilisation de ce service.\n",
    "Ci-après la démarche à suivre:\n",
    "* Upload du fichier Notebook_AiDress_Modelisation.ipynb au sein de votre environnement Colab\n",
    "* Upload des dossiers python_project_dataset et python_project_dataset_final présent dans le repertoire                 *utils/data* du projet dans votre google drive, au meme endroit où pointera le repertoire de travail de votre         notebook sur Colab\n",
    "* Vous n'aurez plus qu'a executer les celulles, une fonction permet d'installer et d'importer tous les modules nécessaire au bon fonctionnement du notebook\n",
    "    \n",
    "## Partie Web App :\n",
    "L'application est accessible live à l'adresse : https://aidress.onrender.com/\n",
    "Si vous le souhaitez, vous pouvez, après avoir installer Docker, lancer la commande suivante à la racine du projet:\n",
    "\n",
    "*docker build -t dressai*\n",
    "\n",
    "*docker run -d dressai*"
   ]
  },
  {
   "cell_type": "code",
   "execution_count": null,
   "metadata": {},
   "outputs": [],
   "source": []
  }
 ],
 "metadata": {
  "kernelspec": {
   "display_name": "Python 3",
   "language": "python",
   "name": "python3"
  },
  "language_info": {
   "codemirror_mode": {
    "name": "ipython",
    "version": 3
   },
   "file_extension": ".py",
   "mimetype": "text/x-python",
   "name": "python",
   "nbconvert_exporter": "python",
   "pygments_lexer": "ipython3",
   "version": "3.7.3"
  }
 },
 "nbformat": 4,
 "nbformat_minor": 4
}
