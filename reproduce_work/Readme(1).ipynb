{
  "nbformat": 4,
  "nbformat_minor": 0,
  "metadata": {
    "kernelspec": {
      "display_name": "Python 3",
      "language": "python",
      "name": "python3"
    },
    "language_info": {
      "codemirror_mode": {
        "name": "ipython",
        "version": 3
      },
      "file_extension": ".py",
      "mimetype": "text/x-python",
      "name": "python",
      "nbconvert_exporter": "python",
      "pygments_lexer": "ipython3",
      "version": "3.7.3"
    },
    "colab": {
      "name": "Readme.ipynb",
      "provenance": [],
      "collapsed_sections": []
    }
  },
  "cells": [
    {
      "cell_type": "markdown",
      "metadata": {
        "id": "mmbT8miXFCF1"
      },
      "source": [
        "# Reproduction notre travail \n",
        "\n",
        "**Les fichiers correspondant aux différentes étapes de notre travail seront à déplacer à la racine du projet afin de pouvoir accéder à la librairie *utils* que nous avons écrite pour l'occasion**\n",
        "\n",
        "## Partie Statistique Descriptive :\n",
        "Ci-après la démarche à suivre:\n",
        "* Upload du fichier Notebook_Statistiques.ipynb à la racine du repository\n",
        "* Installer les modules nécéssaires :\n",
        "\n",
        "\n",
        "```\n",
        "# import sys\n",
        "!{sys.executable} -m pip install opencv-python\n",
        "!{sys.executable} -m pip install imageai\n",
        "!{sys.executable} -m pip install requests\n",
        "!{sys.executable} -m pip install tensorflow==1.14.0\n",
        "!{sys.executable} -m pip install webcolors\n",
        "\n",
        "```\n",
        "* Il ne reste plus qu'à exécuter les cellules du  notebook une par une. Attention, certaines fonctions peuvent prendre jusqu'à plusieurs heures, cela est indiqué quand c'est le cas et des alternatives sont proposées.\n",
        "\n",
        "\n",
        "\n",
        "## Partie Modélisation : \n",
        "Le code de cette partie à été exécuter au sein d'un environnement Google Colab afin de pouvoir acceder aux ressourses GPU misent à disposition.\n",
        "\n",
        "Le reproduction des resultats qui y sont exposés nécessitera donc l'utilisation de ce service.\n",
        "Ci-après la démarche à suivre:\n",
        "* Upload du fichier Notebook_AiDress_Modelisation.ipynb au sein de votre environnement Colab\n",
        "* Upload des dossiers python_project_dataset et python_project_dataset_final présent dans le repertoire                 *utils/data* du projet dans votre google drive, au meme endroit où pointera le repertoire de travail de votre         notebook sur Colab\n",
        "* Vous n'aurez plus qu'a executer les celulles, une fonction permet d'installer et d'importer tous les modules nécessaire au bon fonctionnement du notebook\n",
        "    \n",
        "## Partie Web App :\n",
        "L'application est accessible live à l'adresse : https://aidress.onrender.com/\n",
        "Si vous le souhaitez, vous pouvez, après avoir installer Docker, lancer la commande suivante à la racine du projet:\n",
        "\n",
        "*docker build -t dressai*\n",
        "\n",
        "*docker run -d dressai*"
      ]
    },
    {
      "cell_type": "code",
      "metadata": {
        "id": "SiTciQfIFCGG"
      },
      "source": [
        ""
      ],
      "execution_count": null,
      "outputs": []
    }
  ]
}